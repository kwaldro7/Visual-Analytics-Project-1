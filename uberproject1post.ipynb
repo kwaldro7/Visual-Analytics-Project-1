{
 "cells": [
  {
   "cell_type": "markdown",
   "id": "c270a9c5",
   "metadata": {},
   "source": [
    "# 🚖 Ride-Hailing in NCR: Patterns of Demand and Cancellations\n",
    "\n",
    "In cities like Delhi NCR, ride-hailing apps are part of everyday life.  \n",
    "But what do the numbers reveal about **when people ride, which vehicles they choose, and why so many rides get canceled**?\n",
    "\n",
    "This analysis explores booking data to uncover patterns in **demand, cancellations, and ride distances**.\n"
   ]
  },
  {
   "cell_type": "markdown",
   "id": "dc2cb80f",
   "metadata": {},
   "source": [
    "## ❓ Why Are Rides Canceled So Often?\n",
    "\n",
    "One of the biggest pain points for riders is cancellation.  \n",
    "Do cancellations mostly come from **drivers**, or from **customers**?\n",
    "\n",
    "The chart below shows the main reasons rides don’t happen.\n"
   ]
  },
  {
   "cell_type": "markdown",
   "id": "734fab53",
   "metadata": {},
   "source": [
    "![Ride Cancellations](../project1/Charts/barchart_cancellationreasons.png)"
   ]
  },
  {
   "cell_type": "markdown",
   "id": "731926ce",
   "metadata": {},
   "source": [
    "📊 **Insight**: Over half of cancellations are due to **driver unavailability**.  \n",
    "This shows a mismatch between rider demand and driver supply — especially at busy times.\n"
   ]
  },
  {
   "cell_type": "markdown",
   "id": "ff426122",
   "metadata": {},
   "source": [
    "## 🚗 How Do Different Vehicle Types Get Used?\n",
    "\n",
    "Do riders book different vehicles for different types of trips?  \n",
    "The chart below shows the distribution of ride distances for Autos, Minis, and Premium cars.\n"
   ]
  },
  {
   "cell_type": "markdown",
   "id": "244e11f7",
   "metadata": {},
   "source": [
    "![Vehicle Types](../project1/Charts/boxplot_typeanddistance.png)"
   ]
  },
  {
   "cell_type": "markdown",
   "id": "c11aa8fd",
   "metadata": {},
   "source": [
    "📊 **Insight**: Autos dominate **short trips**, while Premium cars handle **longer journeys**.  \n",
    "This suggests riders make vehicle choices based on distance and cost.\n"
   ]
  },
  {
   "cell_type": "markdown",
   "id": "0473dd7a",
   "metadata": {},
   "source": [
    "## ⏰ When Do People Book Rides the Most?\n",
    "\n",
    "Timing is everything in transportation.  \n",
    "The chart below shows how bookings vary by **hour of day**.\n"
   ]
  },
  {
   "cell_type": "markdown",
   "id": "abcb2437",
   "metadata": {},
   "source": [
    "![Booking](../project1/Charts/linegraph_bookingsperday.png)"
   ]
  },
  {
   "cell_type": "markdown",
   "id": "f28dcc07",
   "metadata": {},
   "source": [
    "📊 **Insight**: Demand spikes at **commuting hours (8–10am, 6–8pm)**.  \n",
    "This aligns with daily work schedules and explains why drivers are often unavailable during these times.\n"
   ]
  },
  {
   "cell_type": "markdown",
   "id": "f74ef3d9",
   "metadata": {},
   "source": [
    "# 📝 Conclusion\n",
    "\n",
    "- **Driver unavailability** is the leading cause of cancellations.  \n",
    "- **Autos serve short rides**, while Premium cars handle longer trips.  \n",
    "- **Peak demand hours** are during the morning and evening commute.\n",
    "\n",
    "👉 Together, these insights highlight the **operational challenges** ride-hailing companies face:  \n",
    "balancing supply and demand, incentivizing drivers during peak times, and ensuring customer satisfaction.\n",
    "\n"
   ]
  }
 ],
 "metadata": {
  "kernelspec": {
   "display_name": "VisualAnalytics",
   "language": "python",
   "name": "python3"
  },
  "language_info": {
   "codemirror_mode": {
    "name": "ipython",
    "version": 3
   },
   "file_extension": ".py",
   "mimetype": "text/x-python",
   "name": "python",
   "nbconvert_exporter": "python",
   "pygments_lexer": "ipython3",
   "version": "3.13.5"
  }
 },
 "nbformat": 4,
 "nbformat_minor": 5
}
